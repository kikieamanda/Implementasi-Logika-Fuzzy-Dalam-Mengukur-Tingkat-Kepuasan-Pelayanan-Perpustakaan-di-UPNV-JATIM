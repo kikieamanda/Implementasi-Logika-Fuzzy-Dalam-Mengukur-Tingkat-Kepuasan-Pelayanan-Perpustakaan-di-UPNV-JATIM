{
  "nbformat": 4,
  "nbformat_minor": 0,
  "metadata": {
    "colab": {
      "provenance": []
    },
    "kernelspec": {
      "name": "python3",
      "display_name": "Python 3"
    },
    "language_info": {
      "name": "python"
    }
  },
  "cells": [
    {
      "cell_type": "markdown",
      "source": [
        "# **Konsep Variabel dan Rule**"
      ],
      "metadata": {
        "id": "1L38WEWKAClD"
      }
    },
    {
      "cell_type": "markdown",
      "source": [
        "1. Variabel Input\n",
        "*   Pelayanan\n",
        " * Rentang nilai antara 0 hingga 10\n",
        " * Himpunan fuzzy : buruk, cukup, baik\n",
        "* Fasilitas\n",
        " * Rentang nilai antara 0 hingga 10\n",
        " * Himpunan fuzzy :buruk, cukup, baik\n",
        "* Lingkungan\n",
        " * Rentang nilai antara 0 hingga 10\n",
        " * Himpunan fuzzy : buruk, cukup, baik\n",
        "\n",
        "2. Variabel Output\n",
        "* Tingkat Kepuasan\n",
        " * Rentang nilai antara 0 hingga 10\n",
        " * Himpunan fuzzy : rendah, sedang, tinggi\n",
        "\n",
        "3. Rule\n",
        "* Rule 1: jika pelayanan buruk dan fasilitas buruk dan lingkungan buruk,maka tingkat kepuasan rendah.\n",
        "* Rule 2: jika pelayanan buruk dan fasilitas buruk dan lingkungan cukup, maka tingkat kepuasan rendah.\n",
        "* Rule 3: jika pelayanan buruk dan fasilitas buruk dan lingkungan baik, maka tingkat kepuasan rendah.\n",
        "* Rule 4: jika pelayanan buruk dan fasilitas cukup dan lingkungan buruk,maka tingkat kepuasan rendah.\n",
        "* Rule 5: jika pelayanan buruk dan fasilitas cukup dan lingkungan cukup, maka tingkat kepuasan sedang.\n",
        "* Rule 6: jika pelayanan buruk dan fasilitas cukup dan lingkungan baik, maka tingkat kepuasan sedang.\n",
        "* Rule 7: jika pelayanan buruk dan fasilitas baik dan lingkungan buruk,maka tingkat kepuasan rendah.\n",
        "* Rule 8: jika pelayanan buruk dan fasilitas baik dan lingkungan cukup, maka tingkat kepuasan sedang.\n",
        "* Rule 9: jika pelayanan buruk dan fasilitas baik dan lingkungan baik, maka tingkat kepuasan sedang.\n",
        "* Rule 10: jika pelayanan cukup dan fasilitas buruk dan lingkungan buruk,maka tingkat kepuasan rendah.\n",
        "* Rule 11: jika pelayanan cukup dan fasilitas buruk dan lingkungan cukup, maka tingkat kepuasan sedang.\n",
        "* Rule 12: jika pelayanan cukup dan fasilitas buruk dan lingkungan baik, maka tingkat kepuasan sedang.\n",
        "* Rule 13: jika pelayanan cukup dan fasilitas cukup dan lingkungan buruk,maka tingkat kepuasan sedang.\n",
        "* Rule 14: jika pelayanan cukup dan fasilitas cukup dan lingkungan cukup, maka tingkat kepuasan sedang.\n",
        "* Rule 15: jika pelayanan cukup dan fasilitas cukup dan lingkungan baik, maka tingkat kepuasan tinggi.\n",
        "* Rule 16: jika pelayanan cukup dan fasilitas baik dan lingkungan buruk,maka tingkat kepuasan sedang.\n",
        "* Rule 17: jika pelayanan cukup dan fasilitas baik dan lingkungan cukup, maka tingkat kepuasan tinggi.\n",
        "* Rule 18: jika pelayanan cukup dan fasilitas baik dan lingkungan baik, maka tingkat kepuasan tinggi.\n",
        "* Rule 19: jika pelayanan baik dan fasilitas buruk dan lingkungan buruk,maka tingkat kepuasan rendah.\n",
        "* Rule 20: jika pelayanan baik dan fasilitas buruk dan lingkungan cukup, maka tingkat kepuasan sedang.\n",
        "* Rule 21: jika pelayanan baik dan fasilitas buruk dan lingkungan baik, maka tingkat kepuasan tsedang.\n",
        "* Rule 22: jika pelayanan baik dan fasilitas cukup dan lingkungan buruk,maka tingkat kepuasan sedang.\n",
        "* Rule 23: jika pelayanan baik dan fasilitas cukup dan lingkungan cukup, maka tingkat kepuasan tinggi.\n",
        "* Rule 24: jika pelayanan baik dan fasilitas cukup dan lingkungan baik, maka tingkat kepuasan tinggi.\n",
        "* Rule 25: jika pelayanan baik dan fasilitas baik dan lingkungan buruk, maka tingkat kepuasan sedang.\n",
        "* Rule 26: jika pelayanan baik dan fasilitas baik dan lingkungan cukup, maka tingkat kepuasan tinggi.\n",
        "* Rule 27: jika pelayanan baik dan fasilitas baik dan lingkungan baik, maka tingkat kepuasan tinggi."
      ],
      "metadata": {
        "id": "ohDmIJfI-HrH"
      }
    },
    {
      "cell_type": "markdown",
      "source": [
        "# **Fuzzifikasi**"
      ],
      "metadata": {
        "id": "5ltaI9wk84Ud"
      }
    },
    {
      "cell_type": "markdown",
      "source": [
        "## Import Library"
      ],
      "metadata": {
        "id": "h5c6PZeQAAeA"
      }
    },
    {
      "cell_type": "code",
      "source": [
        "pip install scikit-fuzzy"
      ],
      "metadata": {
        "colab": {
          "base_uri": "https://localhost:8080/"
        },
        "id": "5KzBvetBAoBG",
        "outputId": "370c05e6-cddf-4834-e73b-6776f8e972fb"
      },
      "execution_count": null,
      "outputs": [
        {
          "output_type": "stream",
          "name": "stdout",
          "text": [
            "Looking in indexes: https://pypi.org/simple, https://us-python.pkg.dev/colab-wheels/public/simple/\n",
            "Requirement already satisfied: scikit-fuzzy in /usr/local/lib/python3.10/dist-packages (0.4.2)\n",
            "Requirement already satisfied: numpy>=1.6.0 in /usr/local/lib/python3.10/dist-packages (from scikit-fuzzy) (1.22.4)\n",
            "Requirement already satisfied: scipy>=0.9.0 in /usr/local/lib/python3.10/dist-packages (from scikit-fuzzy) (1.10.1)\n",
            "Requirement already satisfied: networkx>=1.9.0 in /usr/local/lib/python3.10/dist-packages (from scikit-fuzzy) (3.1)\n"
          ]
        }
      ]
    },
    {
      "cell_type": "code",
      "execution_count": null,
      "metadata": {
        "id": "-vc-G3jp9CJ1"
      },
      "outputs": [],
      "source": [
        "import pandas as pd\n",
        "import numpy as np\n",
        "import skfuzzy as fuzz\n",
        "from skfuzzy import control as ctrl\n",
        "import matplotlib.pyplot as plt"
      ]
    },
    {
      "cell_type": "markdown",
      "source": [
        "## Membuat variabel input dan output fuzzy"
      ],
      "metadata": {
        "id": "OL_JpMVFDnYV"
      }
    },
    {
      "cell_type": "code",
      "source": [
        "# variabel input\n",
        "pelayanan = ctrl.Antecedent(np.arange(0,11,1), 'pelayanan')\n",
        "fasilitas = ctrl.Antecedent(np.arange(0,11,1), 'fasilitas')\n",
        "lingkungan = ctrl.Antecedent(np.arange(0,11,1), 'lingkungan')\n",
        "\n",
        "#variabel output\n",
        "tingkat_kepuasan = ctrl.Consequent(np.arange(0, 11, 1), 'tingkat kepuasan')"
      ],
      "metadata": {
        "id": "hA5iIaAXAPCD"
      },
      "execution_count": null,
      "outputs": []
    },
    {
      "cell_type": "markdown",
      "source": [
        "## Membership function untuk variabel input dan output"
      ],
      "metadata": {
        "id": "wIAbhJM2Fppl"
      }
    },
    {
      "cell_type": "code",
      "source": [
        "# fungsi keanggotaan variabel \"pelayanan\"\n",
        "pelayanan['buruk'] = fuzz.trapmf(pelayanan.universe, [0, 0, 2, 4])\n",
        "pelayanan['cukup'] = fuzz.trimf(pelayanan.universe, [2, 5, 8])\n",
        "pelayanan['baik'] = fuzz.trapmf(pelayanan.universe, [6, 8, 10, 10])\n",
        "\n",
        "pelayanan.view()"
      ],
      "metadata": {
        "id": "4hxdfMkrDi2Y",
        "colab": {
          "base_uri": "https://localhost:8080/",
          "height": 451
        },
        "outputId": "534d4724-8faf-4434-dc5d-119525872ade"
      },
      "execution_count": null,
      "outputs": [
        {
          "output_type": "display_data",
          "data": {
            "text/plain": [
              "<Figure size 640x480 with 1 Axes>"
            ],
            "image/png": "[encoded data removed]"
          },
          "metadata": {}
        }
      ]
    },
    {
      "cell_type": "code",
      "source": [
        "# fungsi keanggotaan variabel \"fasilitas\"\n",
        "fasilitas['buruk'] = fuzz.trapmf(fasilitas.universe, [0, 0, 2, 4])\n",
        "fasilitas['cukup'] = fuzz.trimf(fasilitas.universe, [2, 5, 8])\n",
        "fasilitas['baik'] = fuzz.trapmf(pelayanan.universe, [6, 8, 10, 10])\n",
        "\n",
        "fasilitas.view()"
      ],
      "metadata": {
        "id": "kQYgwq7dInh6",
        "colab": {
          "base_uri": "https://localhost:8080/",
          "height": 451
        },
        "outputId": "93d9c39d-bf97-4541-f555-72b903ae607d"
      },
      "execution_count": null,
      "outputs": [
        {
          "output_type": "display_data",
          "data": {
            "text/plain": [
              "<Figure size 640x480 with 1 Axes>"
            ],
            "image/png": "[encoded data removed]"
          },
          "metadata": {}
        }
      ]
    },
    {
      "cell_type": "code",
      "source": [
        "# fungsi keanggotaan variabel \"lingkungan\"\n",
        "lingkungan['buruk'] = fuzz.trapmf(lingkungan.universe, [0, 0, 2, 4])\n",
        "lingkungan['cukup'] = fuzz.trimf(lingkungan.universe, [2, 5, 8])\n",
        "lingkungan['baik'] = fuzz.trapmf(lingkungan.universe, [6, 8, 10, 10])\n",
        "\n",
        "lingkungan.view()"
      ],
      "metadata": {
        "id": "La00GIHZLp-3",
        "colab": {
          "base_uri": "https://localhost:8080/",
          "height": 451
        },
        "outputId": "6b7f9e8f-d5be-4f8d-807d-e896fb7a4334"
      },
      "execution_count": null,
      "outputs": [
        {
          "output_type": "display_data",
          "data": {
            "text/plain": [
              "<Figure size 640x480 with 1 Axes>"
            ],
            "image/png": "[encoded data removed]"
          },
          "metadata": {}
        }
      ]
    },
    {
      "cell_type": "code",
      "source": [
        "# fungsi keanggotaan variabel \"tingkat_kepuasan\"\n",
        "tingkat_kepuasan['rendah'] = fuzz.trapmf(tingkat_kepuasan.universe, [0, 0, 2, 4])\n",
        "tingkat_kepuasan['sedang'] = fuzz.trimf(tingkat_kepuasan.universe, [2, 5, 8])\n",
        "tingkat_kepuasan['tinggi'] = fuzz.trapmf(tingkat_kepuasan.universe, [6, 8, 10, 10])\n",
        "\n",
        "tingkat_kepuasan.view()"
      ],
      "metadata": {
        "id": "BHsk19EMwn0y",
        "colab": {
          "base_uri": "https://localhost:8080/",
          "height": 451
        },
        "outputId": "d8803123-d7ea-4efd-eb53-d692d70e8b10"
      },
      "execution_count": null,
      "outputs": [
        {
          "output_type": "display_data",
          "data": {
            "text/plain": [
              "<Figure size 640x480 with 1 Axes>"
            ],
            "image/png": "[encoded data removed]"
          },
          "metadata": {}
        }
      ]
    },
    {
      "cell_type": "markdown",
      "source": [
        "# **Inferensi**"
      ],
      "metadata": {
        "id": "M-Baxa-mANE4"
      }
    },
    {
      "cell_type": "markdown",
      "source": [
        "## Rule"
      ],
      "metadata": {
        "id": "CxHnk1MsqCbP"
      }
    },
    {
      "cell_type": "code",
      "source": [
        "# rule\n",
        "rule1 = ctrl.Rule(pelayanan['buruk'] & fasilitas['buruk'] & lingkungan['buruk'], tingkat_kepuasan['rendah'])\n",
        "rule2 = ctrl.Rule(pelayanan['buruk'] & fasilitas['buruk'] & lingkungan['cukup'], tingkat_kepuasan['rendah'])\n",
        "rule3 = ctrl.Rule(pelayanan['buruk'] & fasilitas['buruk'] & lingkungan['baik'], tingkat_kepuasan['rendah'])\n",
        "rule4 = ctrl.Rule(pelayanan['buruk'] & fasilitas['cukup'] & lingkungan['buruk'], tingkat_kepuasan['rendah'])\n",
        "rule5 = ctrl.Rule(pelayanan['buruk'] & fasilitas['cukup'] & lingkungan['cukup'], tingkat_kepuasan['sedang'])\n",
        "rule6 = ctrl.Rule(pelayanan['buruk'] & fasilitas['cukup'] & lingkungan['baik'], tingkat_kepuasan['sedang'])\n",
        "rule7 = ctrl.Rule(pelayanan['buruk'] & fasilitas['baik'] & lingkungan['buruk'], tingkat_kepuasan['rendah'])\n",
        "rule8 = ctrl.Rule(pelayanan['buruk'] & fasilitas['baik'] & lingkungan['cukup'], tingkat_kepuasan['sedang'])\n",
        "rule9 = ctrl.Rule(pelayanan['buruk'] & fasilitas['baik'] & lingkungan['baik'], tingkat_kepuasan['sedang'])\n",
        "rule10 = ctrl.Rule(pelayanan['cukup'] & fasilitas['buruk'] & lingkungan['buruk'], tingkat_kepuasan['rendah'])\n",
        "rule11 = ctrl.Rule(pelayanan['cukup'] & fasilitas['buruk'] & lingkungan['cukup'], tingkat_kepuasan['sedang'])\n",
        "rule12 = ctrl.Rule(pelayanan['cukup'] & fasilitas['buruk'] & lingkungan['baik'], tingkat_kepuasan['sedang'])\n",
        "rule13 = ctrl.Rule(pelayanan['cukup'] & fasilitas['cukup'] & lingkungan['buruk'], tingkat_kepuasan['sedang'])\n",
        "rule14 = ctrl.Rule(pelayanan['cukup'] & fasilitas['cukup'] & lingkungan['cukup'], tingkat_kepuasan['sedang'])\n",
        "rule15 = ctrl.Rule(pelayanan['cukup'] & fasilitas['cukup'] & lingkungan['baik'], tingkat_kepuasan['tinggi'])\n",
        "rule16 = ctrl.Rule(pelayanan['cukup'] & fasilitas['baik'] & lingkungan['buruk'], tingkat_kepuasan['sedang'])\n",
        "rule17 = ctrl.Rule(pelayanan['cukup'] & fasilitas['baik'] &  lingkungan['cukup'], tingkat_kepuasan['tinggi'])\n",
        "rule18 = ctrl.Rule(pelayanan['cukup'] & fasilitas['baik'] & lingkungan['baik'], tingkat_kepuasan['tinggi'])\n",
        "rule19 = ctrl.Rule(pelayanan['baik'] & fasilitas['buruk'] & lingkungan['buruk'], tingkat_kepuasan['rendah'])\n",
        "rule20 = ctrl.Rule(pelayanan['baik'] & fasilitas['buruk'] & lingkungan['cukup'], tingkat_kepuasan['sedang'])\n",
        "rule21 = ctrl.Rule(pelayanan['baik'] & fasilitas['buruk'] & lingkungan['baik'], tingkat_kepuasan['sedang'])\n",
        "rule22 = ctrl.Rule(pelayanan['baik'] & fasilitas['cukup'] & lingkungan['buruk'], tingkat_kepuasan['sedang'])\n",
        "rule23 = ctrl.Rule(pelayanan['baik'] & fasilitas['cukup'] & lingkungan['cukup'], tingkat_kepuasan['tinggi'])\n",
        "rule24 = ctrl.Rule(pelayanan['baik'] & fasilitas['cukup'] & lingkungan['baik'], tingkat_kepuasan['tinggi'])\n",
        "rule25 = ctrl.Rule(pelayanan['baik'] & fasilitas['baik'] & lingkungan['buruk'], tingkat_kepuasan['sedang'])\n",
        "rule26 = ctrl.Rule(pelayanan['baik'] & fasilitas['baik'] & lingkungan['cukup'], tingkat_kepuasan['tinggi'])\n",
        "rule27 = ctrl.Rule(pelayanan['baik'] & fasilitas['baik'] & lingkungan['baik'], tingkat_kepuasan['tinggi'])"
      ],
      "metadata": {
        "id": "QoP3KR9vME_I"
      },
      "execution_count": null,
      "outputs": []
    },
    {
      "cell_type": "markdown",
      "source": [
        "## Membuat Sistem Kontrol Fuzzy"
      ],
      "metadata": {
        "id": "VC8xYdlzpZKE"
      }
    },
    {
      "cell_type": "code",
      "source": [
        "kepuasan_ctrl = ctrl.ControlSystem([rule1, rule2, rule3, rule4, rule5, rule6, rule7, rule8, rule9, \n",
        "                                    rule10, rule11, rule12, rule13, rule14, rule15, rule16, rule17, rule18, \n",
        "                                    rule19, rule20, rule21, rule22, rule23, rule24, rule25, rule26, rule27])"
      ],
      "metadata": {
        "id": "7k4iVXcvoQkT"
      },
      "execution_count": null,
      "outputs": []
    },
    {
      "cell_type": "markdown",
      "source": [
        "# **Defuzzifikasi**\n",
        "\n",
        "\n",
        "\n"
      ],
      "metadata": {
        "id": "q8o82a8gEjdw"
      }
    },
    {
      "cell_type": "markdown",
      "source": [
        "\n",
        "## Membuat Simulasi Sistem Kontrol Fuzzy"
      ],
      "metadata": {
        "id": "8Lcz1X2DEt0F"
      }
    },
    {
      "cell_type": "code",
      "source": [
        "kepuasan_simulasi = ctrl.ControlSystemSimulation(kepuasan_ctrl)"
      ],
      "metadata": {
        "id": "PVq2i0qOEbqW"
      },
      "execution_count": null,
      "outputs": []
    },
    {
      "cell_type": "markdown",
      "source": [
        "## Uji Coba"
      ],
      "metadata": {
        "id": "ysF3_m2dFPdS"
      }
    },
    {
      "cell_type": "markdown",
      "source": [
        "### Memasukkan data input"
      ],
      "metadata": {
        "id": "sJf1mMz0plUn"
      }
    },
    {
      "cell_type": "code",
      "source": [
        "kepuasan_simulasi.input['pelayanan'] = 7\n",
        "kepuasan_simulasi.input['fasilitas'] = 6\n",
        "kepuasan_simulasi.input['lingkungan'] = 7"
      ],
      "metadata": {
        "id": "tiZcSDGCpp8E"
      },
      "execution_count": null,
      "outputs": []
    },
    {
      "cell_type": "markdown",
      "source": [
        "### Melakukan perhitungan"
      ],
      "metadata": {
        "id": "QdabEKotr0zO"
      }
    },
    {
      "cell_type": "code",
      "source": [
        "kepuasan_simulasi.compute()"
      ],
      "metadata": {
        "id": "Cr_YUfKQr5Qn"
      },
      "execution_count": null,
      "outputs": []
    },
    {
      "cell_type": "markdown",
      "source": [
        "### Mendapatkan hasil output "
      ],
      "metadata": {
        "id": "TgmA8I4rgGVn"
      }
    },
    {
      "cell_type": "code",
      "source": [
        "hasil_kepuasan= kepuasan_simulasi.output['tingkat kepuasan']\n",
        "print(hasil_kepuasan)"
      ],
      "metadata": {
        "id": "NawN51wHgLNX",
        "colab": {
          "base_uri": "https://localhost:8080/"
        },
        "outputId": "97f15f26-c775-461a-cdc8-34cfe8cd5423"
      },
      "execution_count": null,
      "outputs": [
        {
          "output_type": "stream",
          "name": "stdout",
          "text": [
            "6.621621621621621\n"
          ]
        }
      ]
    },
    {
      "cell_type": "markdown",
      "source": [
        "### Menampilkan hasil"
      ],
      "metadata": {
        "id": "wfW76N2dgUPw"
      }
    },
    {
      "cell_type": "code",
      "source": [
        "print(\"Tingkat Kepuasan:\", hasil_kepuasan)\n",
        "tingkat_kepuasan.view(sim=kepuasan_simulasi)"
      ],
      "metadata": {
        "id": "EWrpl_Txg04P",
        "colab": {
          "base_uri": "https://localhost:8080/",
          "height": 468
        },
        "outputId": "fbb29cda-b408-4ed4-b1ed-15e655b0d3dc"
      },
      "execution_count": null,
      "outputs": [
        {
          "output_type": "stream",
          "name": "stdout",
          "text": [
            "Tingkat Kepuasan: 6.621621621621621\n"
          ]
        },
        {
          "output_type": "display_data",
          "data": {
            "text/plain": [
              "<Figure size 640x480 with 1 Axes>"
            ],
            "image/png": "[encoded data removed]"
          },
          "metadata": {}
        }
      ]
    },
    {
      "cell_type": "markdown",
      "source": [
        "### Mengubah nilai output menjadi kategorik"
      ],
      "metadata": {
        "id": "3fO5GqXXxzKK"
      }
    },
    {
      "cell_type": "code",
      "source": [
        "if hasil_kepuasan <= 4:\n",
        "  kategori_kepuasan = \"rendah\"\n",
        "elif hasil_kepuasan <=8:\n",
        "  kategori_kepuasan = \"sedang\"\n",
        "else:\n",
        "  kategori_kepuasan = \"tinggi\"\n",
        "\n",
        "print(\"Tingkat Kepuasan  :\", hasil_kepuasan)\n",
        "print(\"Kategori Kepuasan :\", kategori_kepuasan)"
      ],
      "metadata": {
        "colab": {
          "base_uri": "https://localhost:8080/"
        },
        "id": "U3YqCngrx13s",
        "outputId": "aa46fed0-2df8-4c89-850f-c7bdbdcd3240"
      },
      "execution_count": null,
      "outputs": [
        {
          "output_type": "stream",
          "name": "stdout",
          "text": [
            "Tingkat Kepuasan  : 6.621621621621621\n",
            "Kategori Kepuasan : sedang\n"
          ]
        }
      ]
    },
    {
      "cell_type": "markdown",
      "source": [
        "## studi kasus: tingkat kepuasan perpustakaan di upn \"veteran\" jawa timur"
      ],
      "metadata": {
        "id": "YjsHyFya78YX"
      }
    },
    {
      "cell_type": "code",
      "source": [
        "df = pd.read_csv(\"kepuasan.csv\")\n",
        "df"
      ],
      "metadata": {
        "id": "xyh2NCHQeKOb",
        "colab": {
          "base_uri": "https://localhost:8080/",
          "height": 802
        },
        "outputId": "ad2d4306-80cf-4dbd-89cc-3c4eb8ffaaa1"
      },
      "execution_count": null,
      "outputs": [
        {
          "output_type": "execute_result",
          "data": {
            "text/plain": [
              "            nama  pelayanan  fasilitas  lingkungan\n",
              "0    Responden 1          8          7           7\n",
              "1    Responden 2          8          6           5\n",
              "2    Responden 3          5          6           7\n",
              "3    Responden 4          8          9           9\n",
              "4    Responden 5          7          7           7\n",
              "5    Responden 6          8          7           7\n",
              "6    Responden 7          8          7           8\n",
              "7    Responden 8          9          8           9\n",
              "8    Responden 9          4          4           3\n",
              "9   Responden 10          8          8           8\n",
              "10  Responden 11          7          8           7\n",
              "11  Responden 12          5          5           5\n",
              "12  Responden 13          5          8           8\n",
              "13  Responden 14          9          9           8\n",
              "14  Responden 15          9          9           8\n",
              "15  Responden 16         10          9          10\n",
              "16  Responden 17         10          8           8\n",
              "17  Responden 18          9          8           7\n",
              "18  Responden 19          8          7           9\n",
              "19  Responden 20          8          8           8\n",
              "20  Responden 21         10         10          10\n",
              "21  Responden 22          5          5           5\n",
              "22  Responden 23          5         10          10\n",
              "23  Responden 24         10          4           4"
            ],
            "text/html": [
              "\n",
              "  <div id=\"df-f1e74917-bad4-4df6-af61-312bf8b21aa2\">\n",
              "    <div class=\"colab-df-container\">\n",
              "      <div>\n",
              "<style scoped>\n",
              "    .dataframe tbody tr th:only-of-type {\n",
              "        vertical-align: middle;\n",
              "    }\n",
              "\n",
              "    .dataframe tbody tr th {\n",
              "        vertical-align: top;\n",
              "    }\n",
              "\n",
              "    .dataframe thead th {\n",
              "        text-align: right;\n",
              "    }\n",
              "</style>\n",
              "<table border=\"1\" class=\"dataframe\">\n",
              "  <thead>\n",
              "    <tr style=\"text-align: right;\">\n",
              "      <th></th>\n",
              "      <th>nama</th>\n",
              "      <th>pelayanan</th>\n",
              "      <th>fasilitas</th>\n",
              "      <th>lingkungan</th>\n",
              "    </tr>\n",
              "  </thead>\n",
              "  <tbody>\n",
              "    <tr>\n",
              "      <th>0</th>\n",
              "      <td>Responden 1</td>\n",
              "      <td>8</td>\n",
              "      <td>7</td>\n",
              "      <td>7</td>\n",
              "    </tr>\n",
              "    <tr>\n",
              "      <th>1</th>\n",
              "      <td>Responden 2</td>\n",
              "      <td>8</td>\n",
              "      <td>6</td>\n",
              "      <td>5</td>\n",
              "    </tr>\n",
              "    <tr>\n",
              "      <th>2</th>\n",
              "      <td>Responden 3</td>\n",
              "      <td>5</td>\n",
              "      <td>6</td>\n",
              "      <td>7</td>\n",
              "    </tr>\n",
              "    <tr>\n",
              "      <th>3</th>\n",
              "      <td>Responden 4</td>\n",
              "      <td>8</td>\n",
              "      <td>9</td>\n",
              "      <td>9</td>\n",
              "    </tr>\n",
              "    <tr>\n",
              "      <th>4</th>\n",
              "      <td>Responden 5</td>\n",
              "      <td>7</td>\n",
              "      <td>7</td>\n",
              "      <td>7</td>\n",
              "    </tr>\n",
              "    <tr>\n",
              "      <th>5</th>\n",
              "      <td>Responden 6</td>\n",
              "      <td>8</td>\n",
              "      <td>7</td>\n",
              "      <td>7</td>\n",
              "    </tr>\n",
              "    <tr>\n",
              "      <th>6</th>\n",
              "      <td>Responden 7</td>\n",
              "      <td>8</td>\n",
              "      <td>7</td>\n",
              "      <td>8</td>\n",
              "    </tr>\n",
              "    <tr>\n",
              "      <th>7</th>\n",
              "      <td>Responden 8</td>\n",
              "      <td>9</td>\n",
              "      <td>8</td>\n",
              "      <td>9</td>\n",
              "    </tr>\n",
              "    <tr>\n",
              "      <th>8</th>\n",
              "      <td>Responden 9</td>\n",
              "      <td>4</td>\n",
              "      <td>4</td>\n",
              "      <td>3</td>\n",
              "    </tr>\n",
              "    <tr>\n",
              "      <th>9</th>\n",
              "      <td>Responden 10</td>\n",
              "      <td>8</td>\n",
              "      <td>8</td>\n",
              "      <td>8</td>\n",
              "    </tr>\n",
              "    <tr>\n",
              "      <th>10</th>\n",
              "      <td>Responden 11</td>\n",
              "      <td>7</td>\n",
              "      <td>8</td>\n",
              "      <td>7</td>\n",
              "    </tr>\n",
              "    <tr>\n",
              "      <th>11</th>\n",
              "      <td>Responden 12</td>\n",
              "      <td>5</td>\n",
              "      <td>5</td>\n",
              "      <td>5</td>\n",
              "    </tr>\n",
              "    <tr>\n",
              "      <th>12</th>\n",
              "      <td>Responden 13</td>\n",
              "      <td>5</td>\n",
              "      <td>8</td>\n",
              "      <td>8</td>\n",
              "    </tr>\n",
              "    <tr>\n",
              "      <th>13</th>\n",
              "      <td>Responden 14</td>\n",
              "      <td>9</td>\n",
              "      <td>9</td>\n",
              "      <td>8</td>\n",
              "    </tr>\n",
              "    <tr>\n",
              "      <th>14</th>\n",
              "      <td>Responden 15</td>\n",
              "      <td>9</td>\n",
              "      <td>9</td>\n",
              "      <td>8</td>\n",
              "    </tr>\n",
              "    <tr>\n",
              "      <th>15</th>\n",
              "      <td>Responden 16</td>\n",
              "      <td>10</td>\n",
              "      <td>9</td>\n",
              "      <td>10</td>\n",
              "    </tr>\n",
              "    <tr>\n",
              "      <th>16</th>\n",
              "      <td>Responden 17</td>\n",
              "      <td>10</td>\n",
              "      <td>8</td>\n",
              "      <td>8</td>\n",
              "    </tr>\n",
              "    <tr>\n",
              "      <th>17</th>\n",
              "      <td>Responden 18</td>\n",
              "      <td>9</td>\n",
              "      <td>8</td>\n",
              "      <td>7</td>\n",
              "    </tr>\n",
              "    <tr>\n",
              "      <th>18</th>\n",
              "      <td>Responden 19</td>\n",
              "      <td>8</td>\n",
              "      <td>7</td>\n",
              "      <td>9</td>\n",
              "    </tr>\n",
              "    <tr>\n",
              "      <th>19</th>\n",
              "      <td>Responden 20</td>\n",
              "      <td>8</td>\n",
              "      <td>8</td>\n",
              "      <td>8</td>\n",
              "    </tr>\n",
              "    <tr>\n",
              "      <th>20</th>\n",
              "      <td>Responden 21</td>\n",
              "      <td>10</td>\n",
              "      <td>10</td>\n",
              "      <td>10</td>\n",
              "    </tr>\n",
              "    <tr>\n",
              "      <th>21</th>\n",
              "      <td>Responden 22</td>\n",
              "      <td>5</td>\n",
              "      <td>5</td>\n",
              "      <td>5</td>\n",
              "    </tr>\n",
              "    <tr>\n",
              "      <th>22</th>\n",
              "      <td>Responden 23</td>\n",
              "      <td>5</td>\n",
              "      <td>10</td>\n",
              "      <td>10</td>\n",
              "    </tr>\n",
              "    <tr>\n",
              "      <th>23</th>\n",
              "      <td>Responden 24</td>\n",
              "      <td>10</td>\n",
              "      <td>4</td>\n",
              "      <td>4</td>\n",
              "    </tr>\n",
              "  </tbody>\n",
              "</table>\n",
              "</div>\n",
              "      <button class=\"colab-df-convert\" onclick=\"convertToInteractive('df-f1e74917-bad4-4df6-af61-312bf8b21aa2')\"\n",
              "              title=\"Convert this dataframe to an interactive table.\"\n",
              "              style=\"display:none;\">\n",
              "        \n",
              "  <svg xmlns=\"http://www.w3.org/2000/svg\" height=\"24px\"viewBox=\"0 0 24 24\"\n",
              "       width=\"24px\">\n",
              "    <path d=\"M0 0h24v24H0V0z\" fill=\"none\"/>\n",
              "    <path d=\"M18.56 5.44l.94 2.06.94-2.06 2.06-.94-2.06-.94-.94-2.06-.94 2.06-2.06.94zm-11 1L8.5 8.5l.94-2.06 2.06-.94-2.06-.94L8.5 2.5l-.94 2.06-2.06.94zm10 10l.94 2.06.94-2.06 2.06-.94-2.06-.94-.94-2.06-.94 2.06-2.06.94z\"/><path d=\"M17.41 7.96l-1.37-1.37c-.4-.4-.92-.59-1.43-.59-.52 0-1.04.2-1.43.59L10.3 9.45l-7.72 7.72c-.78.78-.78 2.05 0 2.83L4 21.41c.39.39.9.59 1.41.59.51 0 1.02-.2 1.41-.59l7.78-7.78 2.81-2.81c.8-.78.8-2.07 0-2.86zM5.41 20L4 18.59l7.72-7.72 1.47 1.35L5.41 20z\"/>\n",
              "  </svg>\n",
              "      </button>\n",
              "      \n",
              "  <style>\n",
              "    .colab-df-container {\n",
              "      display:flex;\n",
              "      flex-wrap:wrap;\n",
              "      gap: 12px;\n",
              "    }\n",
              "\n",
              "    .colab-df-convert {\n",
              "      background-color: #E8F0FE;\n",
              "      border: none;\n",
              "      border-radius: 50%;\n",
              "      cursor: pointer;\n",
              "      display: none;\n",
              "      fill: #1967D2;\n",
              "      height: 32px;\n",
              "      padding: 0 0 0 0;\n",
              "      width: 32px;\n",
              "    }\n",
              "\n",
              "    .colab-df-convert:hover {\n",
              "      background-color: #E2EBFA;\n",
              "      box-shadow: 0px 1px 2px rgba(60, 64, 67, 0.3), 0px 1px 3px 1px rgba(60, 64, 67, 0.15);\n",
              "      fill: #174EA6;\n",
              "    }\n",
              "\n",
              "    [theme=dark] .colab-df-convert {\n",
              "      background-color: #3B4455;\n",
              "      fill: #D2E3FC;\n",
              "    }\n",
              "\n",
              "    [theme=dark] .colab-df-convert:hover {\n",
              "      background-color: #434B5C;\n",
              "      box-shadow: 0px 1px 3px 1px rgba(0, 0, 0, 0.15);\n",
              "      filter: drop-shadow(0px 1px 2px rgba(0, 0, 0, 0.3));\n",
              "      fill: #FFFFFF;\n",
              "    }\n",
              "  </style>\n",
              "\n",
              "      <script>\n",
              "        const buttonEl =\n",
              "          document.querySelector('#df-f1e74917-bad4-4df6-af61-312bf8b21aa2 button.colab-df-convert');\n",
              "        buttonEl.style.display =\n",
              "          google.colab.kernel.accessAllowed ? 'block' : 'none';\n",
              "\n",
              "        async function convertToInteractive(key) {\n",
              "          const element = document.querySelector('#df-f1e74917-bad4-4df6-af61-312bf8b21aa2');\n",
              "          const dataTable =\n",
              "            await google.colab.kernel.invokeFunction('convertToInteractive',\n",
              "                                                     [key], {});\n",
              "          if (!dataTable) return;\n",
              "\n",
              "          const docLinkHtml = 'Like what you see? Visit the ' +\n",
              "            '<a target=\"_blank\" href=https://colab.research.google.com/notebooks/data_table.ipynb>data table notebook</a>'\n",
              "            + ' to learn more about interactive tables.';\n",
              "          element.innerHTML = '';\n",
              "          dataTable['output_type'] = 'display_data';\n",
              "          await google.colab.output.renderOutput(dataTable, element);\n",
              "          const docLink = document.createElement('div');\n",
              "          docLink.innerHTML = docLinkHtml;\n",
              "          element.appendChild(docLink);\n",
              "        }\n",
              "      </script>\n",
              "    </div>\n",
              "  </div>\n",
              "  "
            ]
          },
          "metadata": {},
          "execution_count": 16
        }
      ]
    },
    {
      "cell_type": "code",
      "source": [
        "for index, row in df.iterrows():\n",
        "\n",
        "    # memasukkan nilai input  \n",
        "    kepuasan_simulasi.input['pelayanan'] = row['pelayanan']\n",
        "    kepuasan_simulasi.input['fasilitas'] = row['fasilitas']\n",
        "    kepuasan_simulasi.input['lingkungan'] = row['lingkungan']\n",
        "    \n",
        "    # melakukan perhitungan\n",
        "    kepuasan_simulasi.compute()\n",
        "    hasil_kepuasan = kepuasan_simulasi.output['tingkat kepuasan']\n",
        "\n",
        "    # memasukkan hasil output ke kolom tingkat kepuasan\n",
        "    df.loc[index, 'tingkat kepuasan'] = hasil_kepuasan\n",
        "\n",
        "    # menentukan kategori tingkat kepuasan\n",
        "    if hasil_kepuasan <= 4:\n",
        "      kategori_kepuasan = \"rendah\"\n",
        "    elif hasil_kepuasan <= 8:\n",
        "      kategori_kepuasan = \"sedang\"\n",
        "    else:\n",
        "      kategori_kepuasan = \"tinggi\"\n",
        "\n",
        "    # memasukkan hasil kategori ke kolom kategori kepuasan\n",
        "    df.loc[index, 'kategori kepuasan'] = kategori_kepuasan\n",
        "\n",
        "\n",
        "df"
      ],
      "metadata": {
        "colab": {
          "base_uri": "https://localhost:8080/",
          "height": 1000
        },
        "id": "1SYqXmAkjF-L",
        "outputId": "e861878e-a0fc-41b9-8ffb-0ecf1189af02"
      },
      "execution_count": null,
      "outputs": [
        {
          "output_type": "execute_result",
          "data": {
            "text/plain": [
              "            nama  pelayanan  fasilitas  lingkungan  tingkat kepuasan  \\\n",
              "0    Responden 1          8          7           7          8.238095   \n",
              "1    Responden 2          8          6           5          8.311111   \n",
              "2    Responden 3          5          6           7          6.621622   \n",
              "3    Responden 4          8          9           9          8.444444   \n",
              "4    Responden 5          7          7           7          6.621622   \n",
              "5    Responden 6          8          7           7          8.238095   \n",
              "6    Responden 7          8          7           8          8.238095   \n",
              "7    Responden 8          9          8           9          8.444444   \n",
              "8    Responden 9          4          4           3          5.000000   \n",
              "9   Responden 10          8          8           8          8.444444   \n",
              "10  Responden 11          7          8           7          8.238095   \n",
              "11  Responden 12          5          5           5          5.000000   \n",
              "12  Responden 13          5          8           8          8.444444   \n",
              "13  Responden 14          9          9           8          8.444444   \n",
              "14  Responden 15          9          9           8          8.444444   \n",
              "15  Responden 16         10          9          10          8.444444   \n",
              "16  Responden 17         10          8           8          8.444444   \n",
              "17  Responden 18          9          8           7          8.238095   \n",
              "18  Responden 19          8          7           9          8.238095   \n",
              "19  Responden 20          8          8           8          8.444444   \n",
              "20  Responden 21         10         10          10          8.444444   \n",
              "21  Responden 22          5          5           5          5.000000   \n",
              "22  Responden 23          5         10          10          8.444444   \n",
              "23  Responden 24         10          4           4          8.311111   \n",
              "\n",
              "   kategori kepuasan  \n",
              "0             tinggi  \n",
              "1             tinggi  \n",
              "2             sedang  \n",
              "3             tinggi  \n",
              "4             sedang  \n",
              "5             tinggi  \n",
              "6             tinggi  \n",
              "7             tinggi  \n",
              "8             sedang  \n",
              "9             tinggi  \n",
              "10            tinggi  \n",
              "11            sedang  \n",
              "12            tinggi  \n",
              "13            tinggi  \n",
              "14            tinggi  \n",
              "15            tinggi  \n",
              "16            tinggi  \n",
              "17            tinggi  \n",
              "18            tinggi  \n",
              "19            tinggi  \n",
              "20            tinggi  \n",
              "21            sedang  \n",
              "22            tinggi  \n",
              "23            tinggi  "
            ],
            "text/html": [
              "\n",
              "  <div id=\"df-646072c0-ce8d-4e4a-bc6e-65d30ef2c200\">\n",
              "    <div class=\"colab-df-container\">\n",
              "      <div>\n",
              "<style scoped>\n",
              "    .dataframe tbody tr th:only-of-type {\n",
              "        vertical-align: middle;\n",
              "    }\n",
              "\n",
              "    .dataframe tbody tr th {\n",
              "        vertical-align: top;\n",
              "    }\n",
              "\n",
              "    .dataframe thead th {\n",
              "        text-align: right;\n",
              "    }\n",
              "</style>\n",
              "<table border=\"1\" class=\"dataframe\">\n",
              "  <thead>\n",
              "    <tr style=\"text-align: right;\">\n",
              "      <th></th>\n",
              "      <th>nama</th>\n",
              "      <th>pelayanan</th>\n",
              "      <th>fasilitas</th>\n",
              "      <th>lingkungan</th>\n",
              "      <th>tingkat kepuasan</th>\n",
              "      <th>kategori kepuasan</th>\n",
              "    </tr>\n",
              "  </thead>\n",
              "  <tbody>\n",
              "    <tr>\n",
              "      <th>0</th>\n",
              "      <td>Responden 1</td>\n",
              "      <td>8</td>\n",
              "      <td>7</td>\n",
              "      <td>7</td>\n",
              "      <td>8.238095</td>\n",
              "      <td>tinggi</td>\n",
              "    </tr>\n",
              "    <tr>\n",
              "      <th>1</th>\n",
              "      <td>Responden 2</td>\n",
              "      <td>8</td>\n",
              "      <td>6</td>\n",
              "      <td>5</td>\n",
              "      <td>8.311111</td>\n",
              "      <td>tinggi</td>\n",
              "    </tr>\n",
              "    <tr>\n",
              "      <th>2</th>\n",
              "      <td>Responden 3</td>\n",
              "      <td>5</td>\n",
              "      <td>6</td>\n",
              "      <td>7</td>\n",
              "      <td>6.621622</td>\n",
              "      <td>sedang</td>\n",
              "    </tr>\n",
              "    <tr>\n",
              "      <th>3</th>\n",
              "      <td>Responden 4</td>\n",
              "      <td>8</td>\n",
              "      <td>9</td>\n",
              "      <td>9</td>\n",
              "      <td>8.444444</td>\n",
              "      <td>tinggi</td>\n",
              "    </tr>\n",
              "    <tr>\n",
              "      <th>4</th>\n",
              "      <td>Responden 5</td>\n",
              "      <td>7</td>\n",
              "      <td>7</td>\n",
              "      <td>7</td>\n",
              "      <td>6.621622</td>\n",
              "      <td>sedang</td>\n",
              "    </tr>\n",
              "    <tr>\n",
              "      <th>5</th>\n",
              "      <td>Responden 6</td>\n",
              "      <td>8</td>\n",
              "      <td>7</td>\n",
              "      <td>7</td>\n",
              "      <td>8.238095</td>\n",
              "      <td>tinggi</td>\n",
              "    </tr>\n",
              "    <tr>\n",
              "      <th>6</th>\n",
              "      <td>Responden 7</td>\n",
              "      <td>8</td>\n",
              "      <td>7</td>\n",
              "      <td>8</td>\n",
              "      <td>8.238095</td>\n",
              "      <td>tinggi</td>\n",
              "    </tr>\n",
              "    <tr>\n",
              "      <th>7</th>\n",
              "      <td>Responden 8</td>\n",
              "      <td>9</td>\n",
              "      <td>8</td>\n",
              "      <td>9</td>\n",
              "      <td>8.444444</td>\n",
              "      <td>tinggi</td>\n",
              "    </tr>\n",
              "    <tr>\n",
              "      <th>8</th>\n",
              "      <td>Responden 9</td>\n",
              "      <td>4</td>\n",
              "      <td>4</td>\n",
              "      <td>3</td>\n",
              "      <td>5.000000</td>\n",
              "      <td>sedang</td>\n",
              "    </tr>\n",
              "    <tr>\n",
              "      <th>9</th>\n",
              "      <td>Responden 10</td>\n",
              "      <td>8</td>\n",
              "      <td>8</td>\n",
              "      <td>8</td>\n",
              "      <td>8.444444</td>\n",
              "      <td>tinggi</td>\n",
              "    </tr>\n",
              "    <tr>\n",
              "      <th>10</th>\n",
              "      <td>Responden 11</td>\n",
              "      <td>7</td>\n",
              "      <td>8</td>\n",
              "      <td>7</td>\n",
              "      <td>8.238095</td>\n",
              "      <td>tinggi</td>\n",
              "    </tr>\n",
              "    <tr>\n",
              "      <th>11</th>\n",
              "      <td>Responden 12</td>\n",
              "      <td>5</td>\n",
              "      <td>5</td>\n",
              "      <td>5</td>\n",
              "      <td>5.000000</td>\n",
              "      <td>sedang</td>\n",
              "    </tr>\n",
              "    <tr>\n",
              "      <th>12</th>\n",
              "      <td>Responden 13</td>\n",
              "      <td>5</td>\n",
              "      <td>8</td>\n",
              "      <td>8</td>\n",
              "      <td>8.444444</td>\n",
              "      <td>tinggi</td>\n",
              "    </tr>\n",
              "    <tr>\n",
              "      <th>13</th>\n",
              "      <td>Responden 14</td>\n",
              "      <td>9</td>\n",
              "      <td>9</td>\n",
              "      <td>8</td>\n",
              "      <td>8.444444</td>\n",
              "      <td>tinggi</td>\n",
              "    </tr>\n",
              "    <tr>\n",
              "      <th>14</th>\n",
              "      <td>Responden 15</td>\n",
              "      <td>9</td>\n",
              "      <td>9</td>\n",
              "      <td>8</td>\n",
              "      <td>8.444444</td>\n",
              "      <td>tinggi</td>\n",
              "    </tr>\n",
              "    <tr>\n",
              "      <th>15</th>\n",
              "      <td>Responden 16</td>\n",
              "      <td>10</td>\n",
              "      <td>9</td>\n",
              "      <td>10</td>\n",
              "      <td>8.444444</td>\n",
              "      <td>tinggi</td>\n",
              "    </tr>\n",
              "    <tr>\n",
              "      <th>16</th>\n",
              "      <td>Responden 17</td>\n",
              "      <td>10</td>\n",
              "      <td>8</td>\n",
              "      <td>8</td>\n",
              "      <td>8.444444</td>\n",
              "      <td>tinggi</td>\n",
              "    </tr>\n",
              "    <tr>\n",
              "      <th>17</th>\n",
              "      <td>Responden 18</td>\n",
              "      <td>9</td>\n",
              "      <td>8</td>\n",
              "      <td>7</td>\n",
              "      <td>8.238095</td>\n",
              "      <td>tinggi</td>\n",
              "    </tr>\n",
              "    <tr>\n",
              "      <th>18</th>\n",
              "      <td>Responden 19</td>\n",
              "      <td>8</td>\n",
              "      <td>7</td>\n",
              "      <td>9</td>\n",
              "      <td>8.238095</td>\n",
              "      <td>tinggi</td>\n",
              "    </tr>\n",
              "    <tr>\n",
              "      <th>19</th>\n",
              "      <td>Responden 20</td>\n",
              "      <td>8</td>\n",
              "      <td>8</td>\n",
              "      <td>8</td>\n",
              "      <td>8.444444</td>\n",
              "      <td>tinggi</td>\n",
              "    </tr>\n",
              "    <tr>\n",
              "      <th>20</th>\n",
              "      <td>Responden 21</td>\n",
              "      <td>10</td>\n",
              "      <td>10</td>\n",
              "      <td>10</td>\n",
              "      <td>8.444444</td>\n",
              "      <td>tinggi</td>\n",
              "    </tr>\n",
              "    <tr>\n",
              "      <th>21</th>\n",
              "      <td>Responden 22</td>\n",
              "      <td>5</td>\n",
              "      <td>5</td>\n",
              "      <td>5</td>\n",
              "      <td>5.000000</td>\n",
              "      <td>sedang</td>\n",
              "    </tr>\n",
              "    <tr>\n",
              "      <th>22</th>\n",
              "      <td>Responden 23</td>\n",
              "      <td>5</td>\n",
              "      <td>10</td>\n",
              "      <td>10</td>\n",
              "      <td>8.444444</td>\n",
              "      <td>tinggi</td>\n",
              "    </tr>\n",
              "    <tr>\n",
              "      <th>23</th>\n",
              "      <td>Responden 24</td>\n",
              "      <td>10</td>\n",
              "      <td>4</td>\n",
              "      <td>4</td>\n",
              "      <td>8.311111</td>\n",
              "      <td>tinggi</td>\n",
              "    </tr>\n",
              "  </tbody>\n",
              "</table>\n",
              "</div>\n",
              "      <button class=\"colab-df-convert\" onclick=\"convertToInteractive('df-646072c0-ce8d-4e4a-bc6e-65d30ef2c200')\"\n",
              "              title=\"Convert this dataframe to an interactive table.\"\n",
              "              style=\"display:none;\">\n",
              "        \n",
              "  <svg xmlns=\"http://www.w3.org/2000/svg\" height=\"24px\"viewBox=\"0 0 24 24\"\n",
              "       width=\"24px\">\n",
              "    <path d=\"M0 0h24v24H0V0z\" fill=\"none\"/>\n",
              "    <path d=\"M18.56 5.44l.94 2.06.94-2.06 2.06-.94-2.06-.94-.94-2.06-.94 2.06-2.06.94zm-11 1L8.5 8.5l.94-2.06 2.06-.94-2.06-.94L8.5 2.5l-.94 2.06-2.06.94zm10 10l.94 2.06.94-2.06 2.06-.94-2.06-.94-.94-2.06-.94 2.06-2.06.94z\"/><path d=\"M17.41 7.96l-1.37-1.37c-.4-.4-.92-.59-1.43-.59-.52 0-1.04.2-1.43.59L10.3 9.45l-7.72 7.72c-.78.78-.78 2.05 0 2.83L4 21.41c.39.39.9.59 1.41.59.51 0 1.02-.2 1.41-.59l7.78-7.78 2.81-2.81c.8-.78.8-2.07 0-2.86zM5.41 20L4 18.59l7.72-7.72 1.47 1.35L5.41 20z\"/>\n",
              "  </svg>\n",
              "      </button>\n",
              "      \n",
              "  <style>\n",
              "    .colab-df-container {\n",
              "      display:flex;\n",
              "      flex-wrap:wrap;\n",
              "      gap: 12px;\n",
              "    }\n",
              "\n",
              "    .colab-df-convert {\n",
              "      background-color: #E8F0FE;\n",
              "      border: none;\n",
              "      border-radius: 50%;\n",
              "      cursor: pointer;\n",
              "      display: none;\n",
              "      fill: #1967D2;\n",
              "      height: 32px;\n",
              "      padding: 0 0 0 0;\n",
              "      width: 32px;\n",
              "    }\n",
              "\n",
              "    .colab-df-convert:hover {\n",
              "      background-color: #E2EBFA;\n",
              "      box-shadow: 0px 1px 2px rgba(60, 64, 67, 0.3), 0px 1px 3px 1px rgba(60, 64, 67, 0.15);\n",
              "      fill: #174EA6;\n",
              "    }\n",
              "\n",
              "    [theme=dark] .colab-df-convert {\n",
              "      background-color: #3B4455;\n",
              "      fill: #D2E3FC;\n",
              "    }\n",
              "\n",
              "    [theme=dark] .colab-df-convert:hover {\n",
              "      background-color: #434B5C;\n",
              "      box-shadow: 0px 1px 3px 1px rgba(0, 0, 0, 0.15);\n",
              "      filter: drop-shadow(0px 1px 2px rgba(0, 0, 0, 0.3));\n",
              "      fill: #FFFFFF;\n",
              "    }\n",
              "  </style>\n",
              "\n",
              "      <script>\n",
              "        const buttonEl =\n",
              "          document.querySelector('#df-646072c0-ce8d-4e4a-bc6e-65d30ef2c200 button.colab-df-convert');\n",
              "        buttonEl.style.display =\n",
              "          google.colab.kernel.accessAllowed ? 'block' : 'none';\n",
              "\n",
              "        async function convertToInteractive(key) {\n",
              "          const element = document.querySelector('#df-646072c0-ce8d-4e4a-bc6e-65d30ef2c200');\n",
              "          const dataTable =\n",
              "            await google.colab.kernel.invokeFunction('convertToInteractive',\n",
              "                                                     [key], {});\n",
              "          if (!dataTable) return;\n",
              "\n",
              "          const docLinkHtml = 'Like what you see? Visit the ' +\n",
              "            '<a target=\"_blank\" href=https://colab.research.google.com/notebooks/data_table.ipynb>data table notebook</a>'\n",
              "            + ' to learn more about interactive tables.';\n",
              "          element.innerHTML = '';\n",
              "          dataTable['output_type'] = 'display_data';\n",
              "          await google.colab.output.renderOutput(dataTable, element);\n",
              "          const docLink = document.createElement('div');\n",
              "          docLink.innerHTML = docLinkHtml;\n",
              "          element.appendChild(docLink);\n",
              "        }\n",
              "      </script>\n",
              "    </div>\n",
              "  </div>\n",
              "  "
            ]
          },
          "metadata": {},
          "execution_count": 17
        }
      ]
    },
    {
      "cell_type": "code",
      "source": [
        "df.describe()"
      ],
      "metadata": {
        "colab": {
          "base_uri": "https://localhost:8080/",
          "height": 301
        },
        "id": "SB0VeTSrLmrp",
        "outputId": "a96ead59-3627-434a-e502-37ba6ee8bc31"
      },
      "execution_count": null,
      "outputs": [
        {
          "output_type": "execute_result",
          "data": {
            "text/plain": [
              "       pelayanan  fasilitas  lingkungan  tingkat kepuasan\n",
              "count  24.000000   24.00000   24.000000         24.000000\n",
              "mean    7.625000    7.37500    7.375000          7.799289\n",
              "std     1.860633    1.68916    1.860633          1.189438\n",
              "min     4.000000    4.00000    3.000000          5.000000\n",
              "25%     6.500000    6.75000    7.000000          8.238095\n",
              "50%     8.000000    8.00000    8.000000          8.311111\n",
              "75%     9.000000    8.25000    8.250000          8.444444\n",
              "max    10.000000   10.00000   10.000000          8.444444"
            ],
            "text/html": [
              "\n",
              "  <div id=\"df-4ce9a838-b566-46d8-8e32-6a4e8c767707\">\n",
              "    <div class=\"colab-df-container\">\n",
              "      <div>\n",
              "<style scoped>\n",
              "    .dataframe tbody tr th:only-of-type {\n",
              "        vertical-align: middle;\n",
              "    }\n",
              "\n",
              "    .dataframe tbody tr th {\n",
              "        vertical-align: top;\n",
              "    }\n",
              "\n",
              "    .dataframe thead th {\n",
              "        text-align: right;\n",
              "    }\n",
              "</style>\n",
              "<table border=\"1\" class=\"dataframe\">\n",
              "  <thead>\n",
              "    <tr style=\"text-align: right;\">\n",
              "      <th></th>\n",
              "      <th>pelayanan</th>\n",
              "      <th>fasilitas</th>\n",
              "      <th>lingkungan</th>\n",
              "      <th>tingkat kepuasan</th>\n",
              "    </tr>\n",
              "  </thead>\n",
              "  <tbody>\n",
              "    <tr>\n",
              "      <th>count</th>\n",
              "      <td>24.000000</td>\n",
              "      <td>24.00000</td>\n",
              "      <td>24.000000</td>\n",
              "      <td>24.000000</td>\n",
              "    </tr>\n",
              "    <tr>\n",
              "      <th>mean</th>\n",
              "      <td>7.625000</td>\n",
              "      <td>7.37500</td>\n",
              "      <td>7.375000</td>\n",
              "      <td>7.799289</td>\n",
              "    </tr>\n",
              "    <tr>\n",
              "      <th>std</th>\n",
              "      <td>1.860633</td>\n",
              "      <td>1.68916</td>\n",
              "      <td>1.860633</td>\n",
              "      <td>1.189438</td>\n",
              "    </tr>\n",
              "    <tr>\n",
              "      <th>min</th>\n",
              "      <td>4.000000</td>\n",
              "      <td>4.00000</td>\n",
              "      <td>3.000000</td>\n",
              "      <td>5.000000</td>\n",
              "    </tr>\n",
              "    <tr>\n",
              "      <th>25%</th>\n",
              "      <td>6.500000</td>\n",
              "      <td>6.75000</td>\n",
              "      <td>7.000000</td>\n",
              "      <td>8.238095</td>\n",
              "    </tr>\n",
              "    <tr>\n",
              "      <th>50%</th>\n",
              "      <td>8.000000</td>\n",
              "      <td>8.00000</td>\n",
              "      <td>8.000000</td>\n",
              "      <td>8.311111</td>\n",
              "    </tr>\n",
              "    <tr>\n",
              "      <th>75%</th>\n",
              "      <td>9.000000</td>\n",
              "      <td>8.25000</td>\n",
              "      <td>8.250000</td>\n",
              "      <td>8.444444</td>\n",
              "    </tr>\n",
              "    <tr>\n",
              "      <th>max</th>\n",
              "      <td>10.000000</td>\n",
              "      <td>10.00000</td>\n",
              "      <td>10.000000</td>\n",
              "      <td>8.444444</td>\n",
              "    </tr>\n",
              "  </tbody>\n",
              "</table>\n",
              "</div>\n",
              "      <button class=\"colab-df-convert\" onclick=\"convertToInteractive('df-4ce9a838-b566-46d8-8e32-6a4e8c767707')\"\n",
              "              title=\"Convert this dataframe to an interactive table.\"\n",
              "              style=\"display:none;\">\n",
              "        \n",
              "  <svg xmlns=\"http://www.w3.org/2000/svg\" height=\"24px\"viewBox=\"0 0 24 24\"\n",
              "       width=\"24px\">\n",
              "    <path d=\"M0 0h24v24H0V0z\" fill=\"none\"/>\n",
              "    <path d=\"M18.56 5.44l.94 2.06.94-2.06 2.06-.94-2.06-.94-.94-2.06-.94 2.06-2.06.94zm-11 1L8.5 8.5l.94-2.06 2.06-.94-2.06-.94L8.5 2.5l-.94 2.06-2.06.94zm10 10l.94 2.06.94-2.06 2.06-.94-2.06-.94-.94-2.06-.94 2.06-2.06.94z\"/><path d=\"M17.41 7.96l-1.37-1.37c-.4-.4-.92-.59-1.43-.59-.52 0-1.04.2-1.43.59L10.3 9.45l-7.72 7.72c-.78.78-.78 2.05 0 2.83L4 21.41c.39.39.9.59 1.41.59.51 0 1.02-.2 1.41-.59l7.78-7.78 2.81-2.81c.8-.78.8-2.07 0-2.86zM5.41 20L4 18.59l7.72-7.72 1.47 1.35L5.41 20z\"/>\n",
              "  </svg>\n",
              "      </button>\n",
              "      \n",
              "  <style>\n",
              "    .colab-df-container {\n",
              "      display:flex;\n",
              "      flex-wrap:wrap;\n",
              "      gap: 12px;\n",
              "    }\n",
              "\n",
              "    .colab-df-convert {\n",
              "      background-color: #E8F0FE;\n",
              "      border: none;\n",
              "      border-radius: 50%;\n",
              "      cursor: pointer;\n",
              "      display: none;\n",
              "      fill: #1967D2;\n",
              "      height: 32px;\n",
              "      padding: 0 0 0 0;\n",
              "      width: 32px;\n",
              "    }\n",
              "\n",
              "    .colab-df-convert:hover {\n",
              "      background-color: #E2EBFA;\n",
              "      box-shadow: 0px 1px 2px rgba(60, 64, 67, 0.3), 0px 1px 3px 1px rgba(60, 64, 67, 0.15);\n",
              "      fill: #174EA6;\n",
              "    }\n",
              "\n",
              "    [theme=dark] .colab-df-convert {\n",
              "      background-color: #3B4455;\n",
              "      fill: #D2E3FC;\n",
              "    }\n",
              "\n",
              "    [theme=dark] .colab-df-convert:hover {\n",
              "      background-color: #434B5C;\n",
              "      box-shadow: 0px 1px 3px 1px rgba(0, 0, 0, 0.15);\n",
              "      filter: drop-shadow(0px 1px 2px rgba(0, 0, 0, 0.3));\n",
              "      fill: #FFFFFF;\n",
              "    }\n",
              "  </style>\n",
              "\n",
              "      <script>\n",
              "        const buttonEl =\n",
              "          document.querySelector('#df-4ce9a838-b566-46d8-8e32-6a4e8c767707 button.colab-df-convert');\n",
              "        buttonEl.style.display =\n",
              "          google.colab.kernel.accessAllowed ? 'block' : 'none';\n",
              "\n",
              "        async function convertToInteractive(key) {\n",
              "          const element = document.querySelector('#df-4ce9a838-b566-46d8-8e32-6a4e8c767707');\n",
              "          const dataTable =\n",
              "            await google.colab.kernel.invokeFunction('convertToInteractive',\n",
              "                                                     [key], {});\n",
              "          if (!dataTable) return;\n",
              "\n",
              "          const docLinkHtml = 'Like what you see? Visit the ' +\n",
              "            '<a target=\"_blank\" href=https://colab.research.google.com/notebooks/data_table.ipynb>data table notebook</a>'\n",
              "            + ' to learn more about interactive tables.';\n",
              "          element.innerHTML = '';\n",
              "          dataTable['output_type'] = 'display_data';\n",
              "          await google.colab.output.renderOutput(dataTable, element);\n",
              "          const docLink = document.createElement('div');\n",
              "          docLink.innerHTML = docLinkHtml;\n",
              "          element.appendChild(docLink);\n",
              "        }\n",
              "      </script>\n",
              "    </div>\n",
              "  </div>\n",
              "  "
            ]
          },
          "metadata": {},
          "execution_count": 18
        }
      ]
    },
    {
      "cell_type": "code",
      "source": [
        "# Jumlah tingkat kepuasan berdasarkan kategori \n",
        "tingkat_kepuasan_kategori = df[\"kategori kepuasan\"].value_counts()\n",
        "print(tingkat_kepuasan_kategori)"
      ],
      "metadata": {
        "colab": {
          "base_uri": "https://localhost:8080/"
        },
        "id": "qTB35FAGMr-c",
        "outputId": "28216930-b435-4660-8e4e-9a79cb4d4ebb"
      },
      "execution_count": null,
      "outputs": [
        {
          "output_type": "stream",
          "name": "stdout",
          "text": [
            "tinggi    19\n",
            "sedang     5\n",
            "Name: kategori kepuasan, dtype: int64\n"
          ]
        }
      ]
    },
    {
      "cell_type": "code",
      "source": [
        "# Diagram tingkat kepuasan berdasarkan kategori\n",
        "labels = tingkat_kepuasan_kategori.index\n",
        "sizes = tingkat_kepuasan_kategori.values\n",
        "plt.pie(sizes, labels=labels, autopct='%.2f%%', startangle=90)\n",
        "plt.title('Diagram Lingkaran Kategori Kepuasan')\n",
        "plt.axis('equal')\n",
        "plt.show()"
      ],
      "metadata": {
        "colab": {
          "base_uri": "https://localhost:8080/",
          "height": 428
        },
        "id": "ovlnL7PJGMCk",
        "outputId": "e5108b77-29c3-4bcc-e054-99658e79cd7c"
      },
      "execution_count": null,
      "outputs": [
        {
          "output_type": "display_data",
          "data": {
            "text/plain": [
              "<Figure size 640x480 with 1 Axes>"
            ],
            "image/png": "[encoded data removed]"
          },
          "metadata": {}
        }
      ]
    },
    {
      "cell_type": "code",
      "source": [
        "# Rata-rata Tingkat Kepuasan\n",
        "\n",
        "kepuasan_mean = df[\"tingkat kepuasan\"].mean() \n",
        "print(\"Tingkat kepuasan rata-rata : \", kepuasan_mean) #output tingkat kepuasan rata-rata termasuk kategori sedang"
      ],
      "metadata": {
        "colab": {
          "base_uri": "https://localhost:8080/"
        },
        "id": "9KwuTKrcKh-k",
        "outputId": "3e665765-0867-444b-efb6-56118aca21ae"
      },
      "execution_count": null,
      "outputs": [
        {
          "output_type": "stream",
          "name": "stdout",
          "text": [
            "Tingkat kepuasan rata-rata :  7.799288574288575\n"
          ]
        }
      ]
    }
  ]
}